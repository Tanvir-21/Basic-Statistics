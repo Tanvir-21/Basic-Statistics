{
 "cells": [
  {
   "cell_type": "markdown",
   "metadata": {},
   "source": [
    "## About Probability\n",
    "\n",
    "**Event:** In probability theory, an *event* is one or more of the possible outcomes of doing some thing.\n",
    "Example: If we toss a coin then getting a head would be an event and getting a head would be an event and getting a tail would be another event.\n",
    "\n",
    "**Experiment:** The activity that produces such an event is referred to in probability theory as an experiment. \n",
    "\n",
    "**Sample Space:** The set of all possible outcomes of an experiment is called the sample space for the experiment. \n",
    "In coin toss experiment, the sample space is:\n",
    "\n",
    "<div align = \"center\"> S = {head, tail} </div>"
   ]
  },
  {
   "cell_type": "code",
   "execution_count": 14,
   "metadata": {},
   "outputs": [],
   "source": [
    "#import packages\n",
    "import pandas as pd \n",
    "import numpy as np \n",
    "import seaborn as sns\n",
    "import matplotlib.pyplot as plt\n",
    "\n",
    "%reload_ext autoreload\n",
    "%autoreload 2\n",
    "%matplotlib inline\n",
    "%config InlineBackend.figure_format = 'retina'\n",
    "\n",
    "sns.set_style(\"white\")\n",
    "sns.set_context(\"talk\")"
   ]
  },
  {
   "cell_type": "markdown",
   "metadata": {},
   "source": [
    "## Events\n",
    "\n",
    "Events can be:\n",
    "\n",
    "* <p style=\"color:Maroon;\"><b>Independent</b>(each event is <b>not</b> affected by other events)</p>\n",
    "* <p style=\"color:Maroon;\"><b>Dependent</b>(also called \"conditional\", where an event <b>is</b> affected by other events)</p>\n",
    "* <p style=\"color:Maroon;\"><b>Mutually Exclusive</b>(events can't happen at the same time)</p>\n",
    "* <p style=\"color:Maroon;\"><b>Collectively exhaustive list</b>(When a list of the possible events that can result from an experiment includes every possible outcome)</p>"
   ]
  },
  {
   "cell_type": "markdown",
   "metadata": {},
   "source": [
    "**Note:**\n",
    "Collectively exhaustive events: In probability theory and logic, a set of events is jointly or collectively exhaustive if at least one of the events must occur. For example: when rolling a six sided die, the outcomes 1,2,3,4,5,and 6 are collectively exhaustive, because they encompass the entire range of possible outcomes. Another way to describe collectively exhaustive events, is that their union must cover all the events within the entire sample space. "
   ]
  },
  {
   "cell_type": "markdown",
   "metadata": {},
   "source": [
    "**Exercise:**\n",
    "Southern Bell is considering the distribution of funds for a campaign to increase long distance calls within North Carolina. The following table lists the markets that the company considers worthy of focused promotions: \n",
    "\n",
    "<table style=\"width:100%\">\n",
    "  <tr>\n",
    "    <th>Market Segment</th>\n",
    "    <th>Cost of Special Campaign Aimed at Group</th> \n",
    "  </tr>\n",
    "  <tr>\n",
    "    <td>Minorities</td>\n",
    "    <td> 350,000 </td>\n",
    "  <tr>\n",
    "  \n",
    "   <tr>\n",
    "    <td>Business People</td>\n",
    "    <td> 550,000 </td>\n",
    "  <tr>\n",
    "  \n",
    "   <tr>\n",
    "    <td>Women</td>\n",
    "    <td> 250,000 </td>\n",
    "  <tr>\n",
    "  \n",
    "   <tr>\n",
    "    <td>Professionals and white collar workers</td>\n",
    "    <td> 200,000 </td>\n",
    "  <tr>\n",
    "    \n",
    "   <tr>\n",
    "    <td>Blue Collar workers</td>\n",
    "    <td> 250,000 </td>\n",
    "  <tr>\n",
    "      \n",
    "</table>"
   ]
  },
  {
   "cell_type": "markdown",
   "metadata": {},
   "source": [
    "There is up to $ 800,000 available for these special campaigns. <br>\n",
    "\n",
    "(a) Are the market segments listed in the table collectively exhaustive? Are they mutually exclusive?<br>\n",
    "(b) Make a collectively exhaustive and mutually exclusive list of the possible events of the spending decision.<br>\n",
    "(c) Suppose the company has decided to spend th eentire $ 800,000 0n special campaigns. Does this change your answer to part(b)? If so what is your new answer? "
   ]
  },
  {
   "cell_type": "markdown",
   "metadata": {},
   "source": [
    "There are three types of Probability, like three types of conceptual approaches to solve probabilistic problem.\n",
    "\n",
    "1. <p style=\"color:Maroon;\"><b>Classical Approach</b></p>\n",
    "2. <p style=\"color:Maroon;\"><b>Relative frequency Approach</b></p>\n",
    "3. <p style=\"color:Maroon;\"><b>Subjective approach</b></p>"
   ]
  },
  {
   "cell_type": "markdown",
   "metadata": {},
   "source": [
    "### Classical Probability:\n",
    "\n",
    "This is same as the common probability theory we use. \n",
    " \n",
    " $$\n",
    " Probability\\ of\\ an\\ event = \\frac{number\\ of\\ outcomes\\ where\\ the\\ event\\ occurs}{total\\ number\\ of\\ possible\\\n",
    " outcomes}\n",
    " $$"
   ]
  },
  {
   "cell_type": "code",
   "execution_count": 1,
   "metadata": {},
   "outputs": [],
   "source": [
    "#implementing the classical probability with python \n",
    "def event_probability(event_outcomes, sample_space):\n",
    "    \"\"\"\n",
    "    count the probability of an event. \n",
    "    \n",
    "    Paramrter Description:\n",
    "    -----------------------\n",
    "    \n",
    "    event_outcomes: number of outcomes where the event occurs \n",
    "    sample_space: total number of possible outcomes\n",
    "    \n",
    "    Returns:\n",
    "    ----------\n",
    "    probability of the event in percentage format\n",
    "    \n",
    "    Example:\n",
    "    ----------\n",
    "    >>> print(event_probability(13,52))\n",
    "    >>> 25.0 \n",
    "    \n",
    "    \"\"\"\n",
    "    probability = (event_outcomes/sample_space)*100\n",
    "    return round(probability,1)"
   ]
  },
  {
   "cell_type": "code",
   "execution_count": 2,
   "metadata": {},
   "outputs": [],
   "source": [
    "# defining sample space \n",
    "cards = 52\n",
    "\n",
    "#event outcomes \n",
    "hearts = 13 \n",
    "\n",
    "hearts_probability = event_probability(hearts,cards)\n",
    "print(str(hearts_probability) + '%')"
   ]
  },
  {
   "cell_type": "markdown",
   "metadata": {},
   "source": [
    "Classical probability is often called a **priori probability** because if we keep using orderly examples such as fair coins, unbiased dice, and standard decks of cards, we can state the answer in advance (a priori) without tossing a coin, rolling a die, or drawing a card. We don't have to perform experiment to make probability of those events rather we can make statements based on logical reasoning. "
   ]
  },
  {
   "cell_type": "markdown",
   "metadata": {},
   "source": [
    "#### Problems with classical approach:\n",
    "\n",
    "This approach to probability is useful when we deal with card games, dice games, coin tosses, and the like, but has serious problems when we try to apply it to the less orderly decision problems we encounter in management. The classical approach to probability assumes a world that does not exist. It assumes away situations that are very unlikely but that could conceivably happen. Real life sutuations, disorderly and unlikely as they often are, make it useful to define probabilities in other ways."
   ]
  },
  {
   "cell_type": "markdown",
   "metadata": {},
   "source": [
    "### Relative frequency appraoch \n",
    "Suppose if we want to know complex questions like \"What is the probability that I will live to be 85?\" or \"What are the chances that I will blow on eof my stereo speakers if I turn my 200-watt amplifier up to wide open?\". We quickly see that we may not be able to state in advance, without experimentation, what these probabilities are.\n",
    "\n",
    "In 1800s, British Statisticians, interested in theoretical foundation for calculating risk of losses in life insurance, began defining probabilities from statistical data collected on births and deaths. Today this approach is called the ***Relative Frequency of Occurance***. It defines probabilitiy of either:\n",
    "\n",
    "1. The observed relative frequecny of an event in a very large number of trials, \n",
    "<br>or \n",
    "2. The proportion of times that an event occurs in the long run when conditions are stable. \n",
    "\n",
    "The method uses the relative frequencies of past occurrences as probabilities. we determine how often something has happened in the past and use that figure to predict the probability that it will happen again in the future.<br>\n",
    "\n",
    "For showing the example we can a see 100 coin toss example that how is it effecting the 0.5 probability of getting either head or tail from a coin toss."
   ]
  },
  {
   "cell_type": "code",
   "execution_count": 4,
   "metadata": {},
   "outputs": [],
   "source": [
    "toss = pd.read_csv(\"data/CoinToss.csv\")"
   ]
  },
  {
   "cell_type": "code",
   "execution_count": 5,
   "metadata": {},
   "outputs": [
    {
     "data": {
      "text/html": [
       "<div>\n",
       "<style scoped>\n",
       "    .dataframe tbody tr th:only-of-type {\n",
       "        vertical-align: middle;\n",
       "    }\n",
       "\n",
       "    .dataframe tbody tr th {\n",
       "        vertical-align: top;\n",
       "    }\n",
       "\n",
       "    .dataframe thead th {\n",
       "        text-align: right;\n",
       "    }\n",
       "</style>\n",
       "<table border=\"1\" class=\"dataframe\">\n",
       "  <thead>\n",
       "    <tr style=\"text-align: right;\">\n",
       "      <th></th>\n",
       "      <th>Toss</th>\n",
       "      <th>Coin1</th>\n",
       "      <th>Coin2</th>\n",
       "      <th>Coin1_h</th>\n",
       "      <th>Coin2_h</th>\n",
       "    </tr>\n",
       "  </thead>\n",
       "  <tbody>\n",
       "    <tr>\n",
       "      <th>0</th>\n",
       "      <td>1</td>\n",
       "      <td>H</td>\n",
       "      <td>T</td>\n",
       "      <td>1</td>\n",
       "      <td>0</td>\n",
       "    </tr>\n",
       "    <tr>\n",
       "      <th>1</th>\n",
       "      <td>2</td>\n",
       "      <td>T</td>\n",
       "      <td>H</td>\n",
       "      <td>0</td>\n",
       "      <td>1</td>\n",
       "    </tr>\n",
       "    <tr>\n",
       "      <th>2</th>\n",
       "      <td>3</td>\n",
       "      <td>T</td>\n",
       "      <td>T</td>\n",
       "      <td>0</td>\n",
       "      <td>0</td>\n",
       "    </tr>\n",
       "    <tr>\n",
       "      <th>3</th>\n",
       "      <td>4</td>\n",
       "      <td>H</td>\n",
       "      <td>T</td>\n",
       "      <td>1</td>\n",
       "      <td>0</td>\n",
       "    </tr>\n",
       "    <tr>\n",
       "      <th>4</th>\n",
       "      <td>5</td>\n",
       "      <td>T</td>\n",
       "      <td>H</td>\n",
       "      <td>0</td>\n",
       "      <td>1</td>\n",
       "    </tr>\n",
       "    <tr>\n",
       "      <th>...</th>\n",
       "      <td>...</td>\n",
       "      <td>...</td>\n",
       "      <td>...</td>\n",
       "      <td>...</td>\n",
       "      <td>...</td>\n",
       "    </tr>\n",
       "    <tr>\n",
       "      <th>95</th>\n",
       "      <td>96</td>\n",
       "      <td>H</td>\n",
       "      <td>T</td>\n",
       "      <td>1</td>\n",
       "      <td>0</td>\n",
       "    </tr>\n",
       "    <tr>\n",
       "      <th>96</th>\n",
       "      <td>97</td>\n",
       "      <td>T</td>\n",
       "      <td>T</td>\n",
       "      <td>0</td>\n",
       "      <td>0</td>\n",
       "    </tr>\n",
       "    <tr>\n",
       "      <th>97</th>\n",
       "      <td>98</td>\n",
       "      <td>T</td>\n",
       "      <td>T</td>\n",
       "      <td>0</td>\n",
       "      <td>0</td>\n",
       "    </tr>\n",
       "    <tr>\n",
       "      <th>98</th>\n",
       "      <td>99</td>\n",
       "      <td>T</td>\n",
       "      <td>H</td>\n",
       "      <td>0</td>\n",
       "      <td>1</td>\n",
       "    </tr>\n",
       "    <tr>\n",
       "      <th>99</th>\n",
       "      <td>100</td>\n",
       "      <td>H</td>\n",
       "      <td>H</td>\n",
       "      <td>1</td>\n",
       "      <td>1</td>\n",
       "    </tr>\n",
       "  </tbody>\n",
       "</table>\n",
       "<p>100 rows × 5 columns</p>\n",
       "</div>"
      ],
      "text/plain": [
       "    Toss Coin1 Coin2  Coin1_h  Coin2_h\n",
       "0      1     H     T        1        0\n",
       "1      2     T     H        0        1\n",
       "2      3     T     T        0        0\n",
       "3      4     H     T        1        0\n",
       "4      5     T     H        0        1\n",
       "..   ...   ...   ...      ...      ...\n",
       "95    96     H     T        1        0\n",
       "96    97     T     T        0        0\n",
       "97    98     T     T        0        0\n",
       "98    99     T     H        0        1\n",
       "99   100     H     H        1        1\n",
       "\n",
       "[100 rows x 5 columns]"
      ]
     },
     "execution_count": 5,
     "metadata": {},
     "output_type": "execute_result"
    }
   ],
   "source": [
    "toss"
   ]
  },
  {
   "cell_type": "code",
   "execution_count": 6,
   "metadata": {},
   "outputs": [],
   "source": [
    "toss = toss[['Toss','Coin1']]"
   ]
  },
  {
   "cell_type": "code",
   "execution_count": 7,
   "metadata": {},
   "outputs": [
    {
     "name": "stderr",
     "output_type": "stream",
     "text": [
      "/usr/local/lib/python3.9/site-packages/pandas/core/frame.py:4300: SettingWithCopyWarning: \n",
      "A value is trying to be set on a copy of a slice from a DataFrame\n",
      "\n",
      "See the caveats in the documentation: https://pandas.pydata.org/pandas-docs/stable/user_guide/indexing.html#returning-a-view-versus-a-copy\n",
      "  return super().rename(\n"
     ]
    }
   ],
   "source": [
    "toss.rename(columns = {'Toss':'Count', 'Coin1':'Coin_result'}, inplace = True)"
   ]
  },
  {
   "cell_type": "code",
   "execution_count": 8,
   "metadata": {},
   "outputs": [
    {
     "data": {
      "text/html": [
       "<div>\n",
       "<style scoped>\n",
       "    .dataframe tbody tr th:only-of-type {\n",
       "        vertical-align: middle;\n",
       "    }\n",
       "\n",
       "    .dataframe tbody tr th {\n",
       "        vertical-align: top;\n",
       "    }\n",
       "\n",
       "    .dataframe thead th {\n",
       "        text-align: right;\n",
       "    }\n",
       "</style>\n",
       "<table border=\"1\" class=\"dataframe\">\n",
       "  <thead>\n",
       "    <tr style=\"text-align: right;\">\n",
       "      <th></th>\n",
       "      <th>Count</th>\n",
       "      <th>Coin_result</th>\n",
       "    </tr>\n",
       "  </thead>\n",
       "  <tbody>\n",
       "    <tr>\n",
       "      <th>0</th>\n",
       "      <td>1</td>\n",
       "      <td>H</td>\n",
       "    </tr>\n",
       "    <tr>\n",
       "      <th>1</th>\n",
       "      <td>2</td>\n",
       "      <td>T</td>\n",
       "    </tr>\n",
       "    <tr>\n",
       "      <th>2</th>\n",
       "      <td>3</td>\n",
       "      <td>T</td>\n",
       "    </tr>\n",
       "    <tr>\n",
       "      <th>3</th>\n",
       "      <td>4</td>\n",
       "      <td>H</td>\n",
       "    </tr>\n",
       "    <tr>\n",
       "      <th>4</th>\n",
       "      <td>5</td>\n",
       "      <td>T</td>\n",
       "    </tr>\n",
       "    <tr>\n",
       "      <th>...</th>\n",
       "      <td>...</td>\n",
       "      <td>...</td>\n",
       "    </tr>\n",
       "    <tr>\n",
       "      <th>95</th>\n",
       "      <td>96</td>\n",
       "      <td>H</td>\n",
       "    </tr>\n",
       "    <tr>\n",
       "      <th>96</th>\n",
       "      <td>97</td>\n",
       "      <td>T</td>\n",
       "    </tr>\n",
       "    <tr>\n",
       "      <th>97</th>\n",
       "      <td>98</td>\n",
       "      <td>T</td>\n",
       "    </tr>\n",
       "    <tr>\n",
       "      <th>98</th>\n",
       "      <td>99</td>\n",
       "      <td>T</td>\n",
       "    </tr>\n",
       "    <tr>\n",
       "      <th>99</th>\n",
       "      <td>100</td>\n",
       "      <td>H</td>\n",
       "    </tr>\n",
       "  </tbody>\n",
       "</table>\n",
       "<p>100 rows × 2 columns</p>\n",
       "</div>"
      ],
      "text/plain": [
       "    Count Coin_result\n",
       "0       1           H\n",
       "1       2           T\n",
       "2       3           T\n",
       "3       4           H\n",
       "4       5           T\n",
       "..    ...         ...\n",
       "95     96           H\n",
       "96     97           T\n",
       "97     98           T\n",
       "98     99           T\n",
       "99    100           H\n",
       "\n",
       "[100 rows x 2 columns]"
      ]
     },
     "execution_count": 8,
     "metadata": {},
     "output_type": "execute_result"
    }
   ],
   "source": [
    "toss"
   ]
  },
  {
   "cell_type": "code",
   "execution_count": 9,
   "metadata": {},
   "outputs": [],
   "source": [
    "toss_sum = toss.groupby(['Coin_result']).count()"
   ]
  },
  {
   "cell_type": "code",
   "execution_count": 10,
   "metadata": {},
   "outputs": [
    {
     "data": {
      "text/html": [
       "<div>\n",
       "<style scoped>\n",
       "    .dataframe tbody tr th:only-of-type {\n",
       "        vertical-align: middle;\n",
       "    }\n",
       "\n",
       "    .dataframe tbody tr th {\n",
       "        vertical-align: top;\n",
       "    }\n",
       "\n",
       "    .dataframe thead th {\n",
       "        text-align: right;\n",
       "    }\n",
       "</style>\n",
       "<table border=\"1\" class=\"dataframe\">\n",
       "  <thead>\n",
       "    <tr style=\"text-align: right;\">\n",
       "      <th></th>\n",
       "      <th>Count</th>\n",
       "    </tr>\n",
       "    <tr>\n",
       "      <th>Coin_result</th>\n",
       "      <th></th>\n",
       "    </tr>\n",
       "  </thead>\n",
       "  <tbody>\n",
       "    <tr>\n",
       "      <th>H</th>\n",
       "      <td>42</td>\n",
       "    </tr>\n",
       "    <tr>\n",
       "      <th>T</th>\n",
       "      <td>58</td>\n",
       "    </tr>\n",
       "  </tbody>\n",
       "</table>\n",
       "</div>"
      ],
      "text/plain": [
       "             Count\n",
       "Coin_result       \n",
       "H               42\n",
       "T               58"
      ]
     },
     "execution_count": 10,
     "metadata": {},
     "output_type": "execute_result"
    }
   ],
   "source": [
    "toss_sum"
   ]
  },
  {
   "cell_type": "code",
   "execution_count": 11,
   "metadata": {},
   "outputs": [
    {
     "data": {
      "image/png": "[encoded data removed]",
      "text/plain": [
       "<Figure size 432x288 with 1 Axes>"
      ]
     },
     "metadata": {
      "needs_background": "light"
     },
     "output_type": "display_data"
    }
   ],
   "source": [
    "toss_sum.plot(kind = \"bar\", title = \"Coin toss result\")\n",
    "plt.ylabel('Count')\n",
    "plt.show()"
   ]
  },
  {
   "cell_type": "markdown",
   "metadata": {},
   "source": [
    "So here we can see if we toss a coin 100 times the result is not quite 0.5 in case. The amount of tail is prone to high. So that's an example of using relative frequency of occurance. "
   ]
  },
  {
   "cell_type": "markdown",
   "metadata": {},
   "source": [
    "One difficulty with the relative frequency approach is that people often use it without evaluating a sufficient number of outcomes. If you heard someone say, \"My aunt and uncle got the flu this year, and they are both over 65, so everyone in that age bracket will probably get the flu,\" So, it is clear that his observation were having insufficient data for establishing a relative frequency of occurance probability. "
   ]
  },
  {
   "cell_type": "markdown",
   "metadata": {},
   "source": [
    "### Subjective Probabilities \n",
    "\n",
    "Subjective probability refers to the probability of something happening based on an individual’s own experience or personal judgment. A subjective probability is not based on market data or historical information and differs from person to person. In other words, it is created from the opinion of an individual and is not based on fact.\n",
    "\n",
    "In most types of probability, quantitative information is interpreted to determine the likelihood of something happening. However, subjective probability does not base its probability on quantitative information, is affected by personal beliefs, and contains no formal calculations.\n",
    "\n",
    "Example:\n",
    "\n",
    "An analyst is asked the probability of the S&P 500 will hit all-time highs in the coming months. The analyst looks at past trends and current market conditions and estimates that the probability of the S&P 500 will hit all-time highs at 20%."
   ]
  },
  {
   "cell_type": "markdown",
   "metadata": {},
   "source": [
    "### Important concept on classical probability problems\n",
    "\n",
    "During solving any problem in classical approach, be sure to check whether the situation is \"with replacement\" after each draw or \"without replacement\". Let's see why is it important:\n",
    "\n",
    "Let’s say you had a population of 7 people, and you wanted to sample 2. Their names are:\n",
    "\n",
    "tanvir, tawhid, farabi, apon, mamun, sourav, anik <br>\n",
    "You could put their names in a hat. If you sample with replacement, you would choose one person’s name, put that person’s name back in the hat, and then choose another name.<br>\n",
    "When you sample with replacement, your two items are independent. In other words, one does not affect the outcome of the other. You have a 1 out of 7 (1/7) chance of choosing the first name and a 1/7 chance of choosing the second name.<br>\n",
    "p(tanvir,tawhid) = (1/7) * (1/7) = 0.02<br>\n",
    "p(farabi,apon) = (1/7) * (1/7) = 0.02<br>\n",
    "and so on, <br>\n",
    "\n",
    "but when we are doing **without replacement:**<br>\n",
    "But now, your two items are dependent, or linked to each other. When you choose the first item, you have a 1/7 probability of picking a name. But then, assuming you don’t replace the name, you only have six names to pick from. That gives you a 1/6 chance of choosing a second name. The odds become:<br>\n",
    "p(tanvir,tawhid)= (1/7) * (1/6) = 0.024 <br>\n",
    "p(farabi,apon) = (1/7) * (1/6) = 0.024<br>"
   ]
  },
  {
   "cell_type": "markdown",
   "metadata": {},
   "source": [
    "Let's test our concept:\n",
    "Classify the following probability estimates as to their type (classical, relative frequecy or subjective):<br>\n",
    "(a) The probability of scoring on a penalty shot in ice hockey is 0.47<br>\n",
    "(b) The probability that the current mayor will resign is 0.85<br>\n",
    "(c) The probability of rolling two sixes with two dice is 1/36<br>\n",
    "(d) The probability that a president elected in a year ending in zero will die in office is 7/10<br>\n",
    "(e) The probability that you will go to Europe this year is 0.14<br>"
   ]
  },
  {
   "cell_type": "markdown",
   "metadata": {},
   "source": [
    "## Probability Rules\n",
    "\n",
    "Most managers who use probabilities are concerned with two conditions:\n",
    "\n",
    "1. The case where one event or another will occur. \n",
    "2. The situation where two or more events will both occur. \n",
    "\n",
    "**Marginal Probability or unconditional probability:** A single probability means that only one event can take place. It is called conditional probability. \n",
    "\n",
    "**Addition Rule for mutually exclusive events:** If two events are mutually exclusive, we can express this probability using the addition rule for mutually exclusive events.<br>\n",
    "\n",
    "$$\n",
    "P(A\\ or\\ B) = P(A) + P(B) \n",
    "$$\n",
    "\n",
    "**Addition Rule for events that are not mutually exclusive:** if two events are not mutually exclusive, it is possible for both events to occur. In this case we will have to omit the probability of happening both event.\n",
    "\n",
    "$$\n",
    "P(A\\ or\\ B) = P(A) + P(B) - P(AB) \n",
    "$$"
   ]
  },
  {
   "cell_type": "markdown",
   "metadata": {},
   "source": [
    "There is a nice diagrammatic way to illustrates these probabilities rules. We use a pictorial representation called a ***Venn Diagram***, after the nineteenth century English mathematician John Venn. In these diagram, the entire sample space is represented nu a rectange, and events are represented by parts of the rectangle. If two events are mutually exclusive their parts of the rectangle will not overlap each other otherwise if two events are not mutually exclusive then they will overlap. "
   ]
  },
  {
   "cell_type": "markdown",
   "metadata": {},
   "source": [
    "![mutually_exclusive.png](Diagrams/mutually_exclusive.png)"
   ]
  },
  {
   "cell_type": "markdown",
   "metadata": {},
   "source": [
    "![not_exclusive.png](Diagrams/not_exclusive.png)"
   ]
  },
  {
   "cell_type": "markdown",
   "metadata": {},
   "source": [
    "## Probabilities under conditions of statistical independence\n",
    "\n",
    "When two events happen, the outcome of the first event may or may not have an effect on the outcome of the second event. That is, the events may be either dependent or independent. Here we will examine the events that are statistically independent: The occurance of one event has no effect on the probability of the occurence of any other event. There are three types of probabilities under statistical independence:<br>\n",
    "\n",
    "1. Marginal \n",
    "2. Joint \n",
    "3. Conditional"
   ]
  },
  {
   "cell_type": "markdown",
   "metadata": {},
   "source": [
    "### Marginal Probabilities under statistical Independence \n",
    "\n",
    "Marginal or unconditional probability is the simple probability of occurance of an event. This is true for every unbiased coin toss. Now imagine we have a biased or unfair coin that has been altered in such a way that head occurs 0.90 of the time and tails occurs 0.10 of the time. On each individual toss, P(H) = 0.90 and P(T) = 0.10. The outcome of any particular toss is completely unrealted to the outcomes of the tosses that may preceede or follow it. So for biased coin as well this is true. \n",
    "\n",
    "### Joint Probabilities under statistical Independence \n",
    "\n",
    "The probability of two or more independent events occuring together or in succession is the product of their marginal probabilities. Mathematically, this is stated (for two events):\n",
    "\n",
    "<div class=\"alert alert-info\">\n",
    "    $$\n",
    "    P(AB) = P(A) * P(B)\n",
    "    $$\n",
    "</div>\n",
    "\n",
    "where,<br> \n",
    "P(AB) = probability of events A and B occuring together or succession - this is known as join probability<br>\n",
    "P(A) = marginal probability of event A occuring<br>\n",
    "P(B) = marginal probability of event B occuring\n"
   ]
  },
  {
   "cell_type": "markdown",
   "metadata": {},
   "source": [
    "**Probability Tree:** We can make the probabilities of events event more explicit using a probability tree. It is showing the possible outcomes and their respective probabilities for one toss of a fair coin . Let's contruct a probability tree for tossing coin thrice."
   ]
  },
  {
   "cell_type": "markdown",
   "metadata": {},
   "source": [
    "![completed_probability_tree.png](Diagrams/completed_probability_tree.png)"
   ]
  },
  {
   "cell_type": "markdown",
   "metadata": {},
   "source": [
    "So from the tree we are getting that, if we toss a fair coin and want to know the probability that all three tosses will result in heads. so,\n",
    "<div class=\"alert alert-info\">\n",
    "$$\n",
    "P(H_1H_2H_3) = P(H_1) * P(H_2) * P(H_3) = 0.5 * 0.5 * 0.5 = 0.125\n",
    "$$\n",
    "</div>\n"
   ]
  },
  {
   "cell_type": "markdown",
   "metadata": {},
   "source": [
    "### Conditional Probabilities under statistical Independence \n",
    "\n",
    "Conditional probability is the probability that a second event (B) will occur of a first event (A) has already happened. \n",
    "\n",
    "![conditional_probabilities.png](Diagrams/conditional.png)\n",
    "\n",
    "For the statistically independent events, the conditional probability of event B given that event A has occured is simply the probability of event B:\n",
    "\n",
    "<div class=\"alert alert-info\">\n",
    "$$\n",
    "P(B|A) = P(B)\n",
    "$$\n",
    "</div>\n"
   ]
  },
  {
   "cell_type": "markdown",
   "metadata": {},
   "source": [
    "**Example:**<br>\n",
    "\n",
    "The health department routinely conducts two independent inspections of each restaurant, with the restaurant passing only if both inspectors pass it. Inspector A is very experienced, and, hence, passes only 2 percent of restaurants that actually do have health code violations. Inspector B is less experienced and passes 7 percent of restaurants with violations. What is the probability that: <br>\n",
    "\n",
    "(a) Inspector A passes a restuarant, given that inspector B has found a violation?<br>\n",
    "(b) A restuarant with a violation is passed by the health department?"
   ]
  },
  {
   "cell_type": "markdown",
   "metadata": {},
   "source": [
    "## Probabilities under condition of statistical Dependence\n",
    "\n",
    "Statistical dependence exists when the probability of some event is dependent on or affected by the occurance of some other event. 3 types of probabilities is possible:<br>\n",
    "\n",
    "1. Conditional \n",
    "2. Joint\n",
    "3. Marginal \n"
   ]
  },
  {
   "cell_type": "markdown",
   "metadata": {},
   "source": [
    "### Conditional probabilities under statistical dependence\n",
    "\n",
    "Suppose you have two events, event A and event B. The conditional probability means event A has occured, taking into account that event B has definitely occured during trial. Explaining it with example would be better:<br>\n",
    "\n",
    "Assume that we one box containing 10 balls distributed as follows:\n",
    "\n",
    "* Three are colored and dotted \n",
    "* One is colored and striped \n",
    "* Two are gray and dotted \n",
    "* Four are gray and striped \n",
    "\n",
    "The probability of drawing any one ball from this is 0.1. Since there are 10 balls, each with equal probability of being drawn.<br>\n",
    "\n",
    "Now, Suppose someone draws a colored ball from the box. What is the probability that it is dotted? What is the probability that it is striped?<br>\n",
    "\n",
    "Answer: This question can be expressed symbolically as P(D|C) or what is the conditional probability that this ball is dotted given that it is colored?<br>\n",
    "\n",
    "So, we already have the condition that the previous ball that is drawn was colored. So we will omit the possibility of having gray balls. We will just look for colored and dotted and colored and stiped balls. Total numbers are 4 in this case. That means we have 4 colored balls. Now among them, 3 of them are dotted. so the probability becomes ***3/4 = 0.75*** and 1 of them is striped so probability is: ***1/4 = 0.25*** We have our answer now.<br>\n",
    "\n",
    "But how can we generalize it and make a equation out of it?<br>\n",
    "\n",
    "To calculate the probability of dotted given colored, P(D|C), we divided the probability of colored and dotted balls(3 out of 10 or 0.3) by the probability of colored balls (4 out of 10 or 0.4):\n",
    "\n",
    "<div class=\"alert alert-info\">\n",
    "$$\n",
    "P(D|C) = \\frac{P(D \\cap C)}{P(C)}\n",
    "$$\n",
    "</div>\n",
    "\n",
    "### Implementation the problem in python\n"
   ]
  },
  {
   "cell_type": "code",
   "execution_count": 2,
   "metadata": {},
   "outputs": [],
   "source": [
    "def event_probability(given_condition_value, required_condition_value):\n",
    "    \"\"\"\n",
    "    count the conditional probability of an event. \n",
    "    \n",
    "    Paramrter Description:\n",
    "    -----------------------\n",
    "    \n",
    "    given_conditon_value: The probability of given condition will occur among total value \n",
    "    required_condition_value: The probaility of possible final outcome that we want.\n",
    "    \n",
    "    Returns:\n",
    "    ----------\n",
    "    probability of the event in percentage format\n",
    "    \n",
    "    Example:\n",
    "    ----------\n",
    "    >>> print(event_probability(0.3,0.4))\n",
    "    >>> 75.0% \n",
    "    \n",
    "    \"\"\"\n",
    "    conditional_probability = (required_condition_value/given_condition_value)*100\n",
    "    return round(conditional_probability,1)"
   ]
  },
  {
   "cell_type": "code",
   "execution_count": 10,
   "metadata": {},
   "outputs": [
    {
     "name": "stdout",
     "output_type": "stream",
     "text": [
      "75.0%\n"
     ]
    }
   ],
   "source": [
    "probability_colored_and_dotted_balls = 3/10\n",
    "probability_of_colored_balls = 4/10\n",
    "\n",
    "probability = event_probability(probability_of_colored_balls,probability_colored_and_dotted_balls)\n",
    "print((str(probability) + '%'))"
   ]
  },
  {
   "cell_type": "markdown",
   "metadata": {},
   "source": [
    "### Joint probabilities under statistical dependence\n",
    "\n",
    "Joint dependent probability means the probability of occuring two statistically dependent probability at once. Simply the formula will be changed to: \n",
    "<div class=\"alert alert-info\">\n",
    "$$\n",
    "P(D \\cap C) = P(D | C)\\times P(C)\n",
    "$$\n",
    "</div>\n",
    "\n",
    "Here, $P(D \\cap C)$ = Joint probaibility of events D and C happening together or in succesion<br>\n",
    "$P(D | C)$ = Probability of event D given that event C has happened<br>\n",
    "$P(C)$ = Probability that event A will happen"
   ]
  },
  {
   "cell_type": "markdown",
   "metadata": {},
   "source": [
    "### Marginal probabilities under statistical dependence\n",
    "\n",
    "Marginal Probabilities under statistical independence are computed by summing up the probabilities of all the joint events in which the simple event occurs."
   ]
  },
  {
   "cell_type": "markdown",
   "metadata": {},
   "source": [
    "## Probability formula table under statistical independence and dependence"
   ]
  },
  {
   "cell_type": "markdown",
   "metadata": {},
   "source": [
    "![probability_Table.png](Diagrams/table_1.1.png)"
   ]
  }
 ],
 "metadata": {
  "kernelspec": {
   "display_name": "Python 3",
   "language": "python",
   "name": "python3"
  },
  "language_info": {
   "codemirror_mode": {
    "name": "ipython",
    "version": 3
   },
   "file_extension": ".py",
   "mimetype": "text/x-python",
   "name": "python",
   "nbconvert_exporter": "python",
   "pygments_lexer": "ipython3",
   "version": "3.9.0"
  }
 },
 "nbformat": 4,
 "nbformat_minor": 4
}
